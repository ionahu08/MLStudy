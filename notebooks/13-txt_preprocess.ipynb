{
 "cells": [
  {
   "cell_type": "code",
   "execution_count": 1,
   "id": "0acb3555-f0c5-42d8-a9ef-52e5b9f69d43",
   "metadata": {},
   "outputs": [],
   "source": [
    "# way1 \n",
    "def find_sentiment(sentences, pos, neg):\n",
    "    sentence = sentence.split()\n",
    "\n",
    "    sentence = set(sentence)\n",
    "\n",
    "    num_common_pos = len(sentence.intersection(pos))\n",
    "\n",
    "    num_common_neg = len(sentence.intersection(neg))\n",
    "\n",
    "    if num_common_pos > num_common_neg:\n",
    "        return \"positive\"\n",
    "    elif num_common_pos < num_common_neg:\n",
    "        return \"negative\"\n",
    "    else:\n",
    "        return \"neutral\""
   ]
  },
  {
   "cell_type": "code",
   "execution_count": 3,
   "id": "655391e1-b661-4783-a20e-78a701208056",
   "metadata": {},
   "outputs": [
    {
     "name": "stdout",
     "output_type": "stream",
     "text": [
      "['hi,', 'how', 'are', 'you?']\n",
      "['hi', ',', 'how', 'are', 'you', '?']\n"
     ]
    }
   ],
   "source": [
    "# tool: tokenization\n",
    "from nltk.tokenize import word_tokenize\n",
    "sentence = \"hi, how are you?\"\n",
    "\n",
    "print(sentence.split())\n",
    "print(word_tokenize(sentence))"
   ]
  },
  {
   "cell_type": "code",
   "execution_count": 9,
   "id": "c8edb8bb-2603-4a77-a4f4-c22d567afadf",
   "metadata": {},
   "outputs": [
    {
     "name": "stdout",
     "output_type": "stream",
     "text": [
      "{'hello': 9, 'how': 11, 'are': 2, 'you': 22, 'im': 13, 'getting': 8, 'bored': 4, 'at': 3, 'home': 10, 'and': 1, 'what': 19, 'do': 7, 'think': 17, 'did': 6, 'know': 14, 'about': 0, 'counts': 5, 'let': 15, 'see': 16, 'if': 12, 'this': 18, 'works': 20, 'yes': 21}\n"
     ]
    }
   ],
   "source": [
    "# model: bag of words\n",
    "# In bag of words, we create a huge sparse matrix that stores\n",
    "# counts of all the words in our corpus (corpus = all the documents = all the\n",
    "# sentences).\n",
    "\n",
    "from sklearn.feature_extraction.text import CountVectorizer\n",
    "\n",
    "corpus = [\n",
    "\"hello, how are you?\",\n",
    "\"im getting bored at home. And you? What do you think?\",\n",
    "\"did you know about counts\",\n",
    "\"let's see if this works!\",\n",
    "\"YES!!!!\"\n",
    "]\n",
    "\n",
    "ctv = CountVectorizer()\n",
    "ctv.fit(corpus)\n",
    "corpus_transformed = ctv.transform(corpus)\n",
    "print(ctv.vocabulary_)"
   ]
  },
  {
   "cell_type": "code",
   "execution_count": 10,
   "id": "c7409358-9d0f-4e06-8ebb-5e805543609f",
   "metadata": {},
   "outputs": [
    {
     "name": "stdout",
     "output_type": "stream",
     "text": [
      "  (np.int32(0), np.int32(2))\t1\n",
      "  (np.int32(0), np.int32(9))\t1\n",
      "  (np.int32(0), np.int32(11))\t1\n",
      "  (np.int32(0), np.int32(22))\t1\n",
      "  (np.int32(1), np.int32(1))\t1\n",
      "  (np.int32(1), np.int32(3))\t1\n",
      "  (np.int32(1), np.int32(4))\t1\n",
      "  (np.int32(1), np.int32(7))\t1\n",
      "  (np.int32(1), np.int32(8))\t1\n",
      "  (np.int32(1), np.int32(10))\t1\n",
      "  (np.int32(1), np.int32(13))\t1\n",
      "  (np.int32(1), np.int32(17))\t1\n",
      "  (np.int32(1), np.int32(19))\t1\n",
      "  (np.int32(1), np.int32(22))\t2\n",
      "  (np.int32(2), np.int32(0))\t1\n",
      "  (np.int32(2), np.int32(5))\t1\n",
      "  (np.int32(2), np.int32(6))\t1\n",
      "  (np.int32(2), np.int32(14))\t1\n",
      "  (np.int32(2), np.int32(22))\t1\n",
      "  (np.int32(3), np.int32(12))\t1\n",
      "  (np.int32(3), np.int32(15))\t1\n",
      "  (np.int32(3), np.int32(16))\t1\n",
      "  (np.int32(3), np.int32(18))\t1\n",
      "  (np.int32(3), np.int32(20))\t1\n",
      "  (np.int32(4), np.int32(21))\t1\n"
     ]
    }
   ],
   "source": [
    "print(corpus_transformed )"
   ]
  },
  {
   "cell_type": "code",
   "execution_count": 11,
   "id": "a24fe4c4-b5d5-4bc3-b0b8-8ebc67b96979",
   "metadata": {},
   "outputs": [
    {
     "name": "stdout",
     "output_type": "stream",
     "text": [
      "{'hello': 14, ',': 2, 'how': 16, 'are': 7, 'you': 27, '?': 4, 'im': 18, 'getting': 13, 'bored': 9, 'at': 8, 'home': 15, '.': 3, 'and': 6, 'what': 24, 'do': 12, 'think': 22, 'did': 11, 'know': 19, 'about': 5, 'counts': 10, 'let': 20, \"'s\": 1, 'see': 21, 'if': 17, 'this': 23, 'works': 25, '!': 0, 'yes': 26}\n"
     ]
    }
   ],
   "source": [
    "# combine bag of words + word_token\n",
    "from sklearn.feature_extraction.text import CountVectorizer\n",
    "from nltk.tokenize import word_tokenize\n",
    "\n",
    "corpus = [\n",
    "\"hello, how are you?\",\n",
    "\"im getting bored at home. And you? What do you think?\",\n",
    "\"did you know about counts\",\n",
    "\"let's see if this works!\",\n",
    "\"YES!!!!\"\n",
    "]\n",
    "\n",
    "ctv = CountVectorizer(tokenizer=word_tokenize, token_pattern=None)\n",
    "\n",
    "ctv.fit(corpus)\n",
    "corpus_transformed = ctv.transform(corpus)\n",
    "print(ctv.vocabulary_)\n"
   ]
  },
  {
   "cell_type": "code",
   "execution_count": null,
   "id": "e151757b-03d1-409a-ba08-f858324412e6",
   "metadata": {},
   "outputs": [],
   "source": []
  }
 ],
 "metadata": {
  "kernelspec": {
   "display_name": "Python 3 (ipykernel)",
   "language": "python",
   "name": "python3"
  },
  "language_info": {
   "codemirror_mode": {
    "name": "ipython",
    "version": 3
   },
   "file_extension": ".py",
   "mimetype": "text/x-python",
   "name": "python",
   "nbconvert_exporter": "python",
   "pygments_lexer": "ipython3",
   "version": "3.9.21"
  }
 },
 "nbformat": 4,
 "nbformat_minor": 5
}
