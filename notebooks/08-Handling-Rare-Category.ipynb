{
 "cells": [
  {
   "cell_type": "markdown",
   "id": "d8b6f11c-277c-448d-8a74-04bbf4a8cc2e",
   "metadata": {},
   "source": [
    "Definition: A rare category is a category which is not seen very often and can include many different categories.\n",
    "\n",
    "\n",
    "\n",
    "\n",
    "Ways to handle it:\n",
    "1) Modify your model pipeline and include a new category to the existing categories\n",
    "2) Try to “predict” the unknown category by using a nearest neighbour model."
   ]
  },
  {
   "cell_type": "code",
   "execution_count": 2,
   "id": "fb502711-d9f9-45de-b4b0-a6b371990bff",
   "metadata": {},
   "outputs": [],
   "source": [
    "import pandas as pd\n",
    "from sklearn import preprocessing "
   ]
  },
  {
   "cell_type": "code",
   "execution_count": 4,
   "id": "b4fe6194-8c31-40aa-9566-96b932155fb8",
   "metadata": {},
   "outputs": [],
   "source": [
    "train = pd.read_csv(\"./resources/cat_train.csv\")\n",
    "test = pd.read_csv(\"./resources/cat_test.csv\")"
   ]
  },
  {
   "cell_type": "code",
   "execution_count": 5,
   "id": "8506157d-67ae-43fe-848f-2e93e358d688",
   "metadata": {},
   "outputs": [],
   "source": [
    "test.loc[\"target\"] = -1"
   ]
  },
  {
   "cell_type": "code",
   "execution_count": 6,
   "id": "fa68bf1c-851c-4410-a14f-243fb5acff68",
   "metadata": {},
   "outputs": [],
   "source": [
    "data = pd.concat([train, test]).reset_index(drop=True)"
   ]
  },
  {
   "cell_type": "code",
   "execution_count": 7,
   "id": "c9195353-e96c-4e77-ad35-ba87b5d1530e",
   "metadata": {},
   "outputs": [],
   "source": [
    "features = [x for x in train.columns if x not in [\"id\", \"target\"]]"
   ]
  },
  {
   "cell_type": "code",
   "execution_count": 9,
   "id": "37de8948-4ad6-4ef3-b0f3-201b654dd0e8",
   "metadata": {},
   "outputs": [],
   "source": [
    "for feat in features:\n",
    "    lbl_enc = preprocessing.LabelEncoder()\n",
    "    temp_col = data[feat].fillna(\"NONE\").astype(str).values\n",
    "\n",
    "    data[feat] = lbl_enc.fit_transform(temp_col)"
   ]
  },
  {
   "cell_type": "code",
   "execution_count": 11,
   "id": "3d7f4186-6f26-4567-a817-c42ceca7af44",
   "metadata": {},
   "outputs": [],
   "source": [
    "train = data[data[\"target\"] != -1].reset_index(drop=True)\n",
    "test = data[data[\"target\"] == -1].reset_index(drop=True)"
   ]
  },
  {
   "cell_type": "markdown",
   "id": "beb3b248-be78-46dc-bd02-b2d50cc8a416",
   "metadata": {},
   "source": [
    "## Treat those categories as rare cases, which occurs less than specific times"
   ]
  },
  {
   "cell_type": "code",
   "execution_count": 12,
   "id": "51a144fc-4008-4fc9-8030-12b4c0a5de57",
   "metadata": {},
   "outputs": [],
   "source": [
    "df = pd.read_csv(\"./resources/cat_train.csv\")"
   ]
  },
  {
   "cell_type": "code",
   "execution_count": 13,
   "id": "ba0e0661-39d5-4de5-a177-51a55801b923",
   "metadata": {},
   "outputs": [
    {
     "data": {
      "text/plain": [
       "ord_4\n",
       "N    39978\n",
       "P    37890\n",
       "Y    36657\n",
       "A    36633\n",
       "R    33045\n",
       "U    32897\n",
       "M    32504\n",
       "X    32347\n",
       "C    32112\n",
       "H    31189\n",
       "Q    30145\n",
       "T    29723\n",
       "O    25610\n",
       "B    25212\n",
       "E    21871\n",
       "K    21676\n",
       "I    19805\n",
       "D    17284\n",
       "F    16721\n",
       "W     8268\n",
       "Z     5790\n",
       "S     4595\n",
       "G     3404\n",
       "V     3107\n",
       "J     1950\n",
       "L     1657\n",
       "Name: count, dtype: int64"
      ]
     },
     "execution_count": 13,
     "metadata": {},
     "output_type": "execute_result"
    }
   ],
   "source": [
    "df['ord_4'].value_counts()"
   ]
  },
  {
   "cell_type": "code",
   "execution_count": 24,
   "id": "48e7189e-611a-43d4-9f08-830bd36f1230",
   "metadata": {},
   "outputs": [
    {
     "data": {
      "text/plain": [
       "ord_4\n",
       "N       39978\n",
       "P       37890\n",
       "Y       36657\n",
       "A       36633\n",
       "R       33045\n",
       "U       32897\n",
       "M       32504\n",
       "X       32347\n",
       "C       32112\n",
       "H       31189\n",
       "Q       30145\n",
       "T       29723\n",
       "O       25610\n",
       "B       25212\n",
       "E       21871\n",
       "K       21676\n",
       "I       19805\n",
       "None    17930\n",
       "D       17284\n",
       "F       16721\n",
       "W        8268\n",
       "Z        5790\n",
       "S        4595\n",
       "G        3404\n",
       "V        3107\n",
       "J        1950\n",
       "L        1657\n",
       "Name: count, dtype: int64"
      ]
     },
     "execution_count": 24,
     "metadata": {},
     "output_type": "execute_result"
    }
   ],
   "source": [
    "df['ord_4'] = df['ord_4'].fillna('None')\n",
    "df['ord_4'].value_counts()"
   ]
  },
  {
   "cell_type": "code",
   "execution_count": 25,
   "id": "5f049968-f392-461f-8ac0-52743abd0824",
   "metadata": {},
   "outputs": [],
   "source": [
    "df.loc[\n",
    "df['ord_4'].value_counts()[df[\"ord_4\"]].values < 2000,\n",
    "\"ord_4\"\n",
    "] = \"RARE\""
   ]
  },
  {
   "cell_type": "code",
   "execution_count": 26,
   "id": "b56ccc70-dd4e-4577-bb1f-6ba0c63702fc",
   "metadata": {},
   "outputs": [
    {
     "data": {
      "text/plain": [
       "ord_4\n",
       "N       39978\n",
       "P       37890\n",
       "Y       36657\n",
       "A       36633\n",
       "R       33045\n",
       "U       32897\n",
       "M       32504\n",
       "X       32347\n",
       "C       32112\n",
       "H       31189\n",
       "Q       30145\n",
       "T       29723\n",
       "O       25610\n",
       "B       25212\n",
       "E       21871\n",
       "K       21676\n",
       "I       19805\n",
       "None    17930\n",
       "D       17284\n",
       "F       16721\n",
       "W        8268\n",
       "Z        5790\n",
       "S        4595\n",
       "RARE     3607\n",
       "G        3404\n",
       "V        3107\n",
       "Name: count, dtype: int64"
      ]
     },
     "execution_count": 26,
     "metadata": {},
     "output_type": "execute_result"
    }
   ],
   "source": [
    "df['ord_4'].value_counts()"
   ]
  },
  {
   "cell_type": "code",
   "execution_count": null,
   "id": "6cef0819-b598-485e-bd93-2f9754f1ee9f",
   "metadata": {},
   "outputs": [],
   "source": []
  }
 ],
 "metadata": {
  "kernelspec": {
   "display_name": "Python 3 (ipykernel)",
   "language": "python",
   "name": "python3"
  },
  "language_info": {
   "codemirror_mode": {
    "name": "ipython",
    "version": 3
   },
   "file_extension": ".py",
   "mimetype": "text/x-python",
   "name": "python",
   "nbconvert_exporter": "python",
   "pygments_lexer": "ipython3",
   "version": "3.9.21"
  }
 },
 "nbformat": 4,
 "nbformat_minor": 5
}
