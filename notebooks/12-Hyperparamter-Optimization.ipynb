{
 "cells": [
  {
   "cell_type": "markdown",
   "id": "09e1e274-ba42-4ec8-b579-04cc242348ca",
   "metadata": {},
   "source": [
    "## Grid Search\n",
    "we specify a grid of parameters. A search over\n",
    "this grid to find the best combination of parameters is known as grid search."
   ]
  },
  {
   "cell_type": "code",
   "execution_count": null,
   "id": "3edc62d6-1be1-40ba-80cb-955a4c15bd3b",
   "metadata": {},
   "outputs": [],
   "source": []
  },
  {
   "cell_type": "code",
   "execution_count": null,
   "id": "1309cfed-43a4-4bc3-b948-cd99aeb0be57",
   "metadata": {},
   "outputs": [],
   "source": []
  },
  {
   "cell_type": "code",
   "execution_count": null,
   "id": "44ac159b-210b-46dc-ab7e-d4b6ce77b28b",
   "metadata": {},
   "outputs": [],
   "source": []
  },
  {
   "cell_type": "code",
   "execution_count": null,
   "id": "12a08efd-47ef-47f3-bd14-80ec451be98c",
   "metadata": {},
   "outputs": [],
   "source": []
  },
  {
   "cell_type": "code",
   "execution_count": null,
   "id": "c75770c5-5cce-4dd3-9acd-55a60a8d0cab",
   "metadata": {},
   "outputs": [],
   "source": []
  },
  {
   "cell_type": "code",
   "execution_count": null,
   "id": "f80d4bd8-6f3b-4387-b08a-4ba13d8258cd",
   "metadata": {},
   "outputs": [],
   "source": []
  },
  {
   "cell_type": "code",
   "execution_count": null,
   "id": "09c9dfb4-fafb-4ce7-8109-c0ef3ac5be91",
   "metadata": {},
   "outputs": [],
   "source": []
  },
  {
   "cell_type": "code",
   "execution_count": null,
   "id": "3316a9c9-df93-482c-bde8-6c0b562483a8",
   "metadata": {},
   "outputs": [],
   "source": []
  },
  {
   "cell_type": "code",
   "execution_count": null,
   "id": "731264d8-eb11-41cd-95b7-525e9d898dcb",
   "metadata": {},
   "outputs": [],
   "source": []
  },
  {
   "cell_type": "code",
   "execution_count": null,
   "id": "9e725b7e-c2a6-4696-955e-ac207ffab161",
   "metadata": {},
   "outputs": [],
   "source": []
  },
  {
   "cell_type": "code",
   "execution_count": null,
   "id": "86e03ace-8702-4a96-9c64-4f607d16bed4",
   "metadata": {},
   "outputs": [],
   "source": []
  },
  {
   "cell_type": "code",
   "execution_count": null,
   "id": "68543593-3135-41d6-b944-015aaee0bcab",
   "metadata": {},
   "outputs": [],
   "source": []
  },
  {
   "cell_type": "code",
   "execution_count": null,
   "id": "d93571fb-040e-4973-b9e6-382b58c5a1a2",
   "metadata": {},
   "outputs": [],
   "source": []
  }
 ],
 "metadata": {
  "kernelspec": {
   "display_name": "Python 3 (ipykernel)",
   "language": "python",
   "name": "python3"
  },
  "language_info": {
   "codemirror_mode": {
    "name": "ipython",
    "version": 3
   },
   "file_extension": ".py",
   "mimetype": "text/x-python",
   "name": "python",
   "nbconvert_exporter": "python",
   "pygments_lexer": "ipython3",
   "version": "3.9.21"
  }
 },
 "nbformat": 4,
 "nbformat_minor": 5
}
