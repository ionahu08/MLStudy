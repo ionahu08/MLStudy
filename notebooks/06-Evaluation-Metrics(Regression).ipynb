{
 "cells": [
  {
   "cell_type": "markdown",
   "id": "63de30a0-36e5-4793-8393-ea72633b2889",
   "metadata": {},
   "source": [
    "## Mean Absolute Error (MAE)"
   ]
  },
  {
   "cell_type": "code",
   "execution_count": 7,
   "id": "91882d14-16d8-4547-ab45-2e2e23fa0d43",
   "metadata": {},
   "outputs": [],
   "source": [
    "import numpy as np"
   ]
  },
  {
   "cell_type": "code",
   "execution_count": 8,
   "id": "3fea343c-50be-47d2-b675-cb519a97c212",
   "metadata": {},
   "outputs": [],
   "source": [
    "def mean_absolute_error(y_true, y_pred):\n",
    "    error = 0\n",
    "    for yt, yp in zip(y_true, y_pred):\n",
    "        error += np.abs(yt-yp)\n",
    "    return error/len(y_true)"
   ]
  },
  {
   "cell_type": "markdown",
   "id": "4bff9149-6a7a-4094-8153-e24d22917d1c",
   "metadata": {},
   "source": [
    "## ! Mean Squared Error (MSE) "
   ]
  },
  {
   "cell_type": "code",
   "execution_count": 9,
   "id": "82372483-2cb7-40e6-a242-12ec56c872b5",
   "metadata": {},
   "outputs": [],
   "source": [
    "def mean_squared_error(y_true, y_pred):\n",
    "    error = 0\n",
    "    for yt, yp in zip(y_true, y_pred):\n",
    "        error += (yt-yp) ** 2\n",
    "        \n",
    "    return error/len(y_true)"
   ]
  },
  {
   "cell_type": "markdown",
   "id": "e5ab9e6c-0ab7-4bc6-a8ec-d4ba66ac0ecb",
   "metadata": {},
   "source": [
    "## ! Root Mean Squared Error (RMSE) "
   ]
  },
  {
   "cell_type": "code",
   "execution_count": 10,
   "id": "284cafeb-364b-468b-a7bb-ab4c209ef659",
   "metadata": {},
   "outputs": [],
   "source": [
    "def root_mean_squared_error(y_true, y_pred):\n",
    "    error = 0\n",
    "    for yt, yp in zip(y_true, y_pred):\n",
    "        error += (yt-yp) ** 2\n",
    "        \n",
    "    return np.sqrt(error/len(y_true))"
   ]
  },
  {
   "cell_type": "markdown",
   "id": "194b1c93-926d-4b75-b32a-79a2e5895f42",
   "metadata": {},
   "source": [
    "## Mean Squared Logarithmic Error (MSLE)"
   ]
  },
  {
   "cell_type": "code",
   "execution_count": 11,
   "id": "dbb81c16-f818-495e-9fdc-d3888c40cd1f",
   "metadata": {},
   "outputs": [],
   "source": [
    "def mean_squared_log_err(y_true, y_pred):\n",
    "    error = 0\n",
    "    for yt, yp in zip(y_true, y_pred):\n",
    "        error += (np.log(1+yt) - np.log(1+yp))**2\n",
    "\n",
    "    return error/len(y_true)"
   ]
  },
  {
   "cell_type": "markdown",
   "id": "3c7d63e6-ebd1-49be-904b-3a90810d9f28",
   "metadata": {},
   "source": [
    "## Root Mean Squared Logarithmic Error (RMSLE)"
   ]
  },
  {
   "cell_type": "code",
   "execution_count": 12,
   "id": "33a6c932-a06a-4448-9def-fac6fc449c65",
   "metadata": {},
   "outputs": [],
   "source": [
    "def root_mean_squared_log_err(y_true, y_pred):\n",
    "    error = 0\n",
    "    for yt, yp in zip(y_true, y_pred):\n",
    "        error += (np.log(1+yt) - np.log(1+yp))**2\n",
    "\n",
    "    return np.sqrt(error/len(y_true))"
   ]
  },
  {
   "cell_type": "markdown",
   "id": "7ca2a206-8a5b-43d7-bdd7-ec1d30caa814",
   "metadata": {},
   "source": [
    "## R2 (R-Squared/Coefficient of Determination)\n",
    "\n",
    "R2 = 1 - ((sum(yti - ypi)^2)/(sum(yti-ytmean)))"
   ]
  },
  {
   "cell_type": "code",
   "execution_count": 14,
   "id": "f8998358-53fe-4a0d-9ee8-0ef8d616d9f0",
   "metadata": {},
   "outputs": [],
   "source": [
    "def r2(y_true, y_pred):\n",
    "    numerator = 0\n",
    "    denominator = 0\n",
    "    for yt, yp in zip(y_true, y_pred):\n",
    "        numerator += (yt-yp)**2\n",
    "        denominator += (yt - np.mean(y_true))\n",
    "\n",
    "    r2 = 1 - (numerator/denominator)\n",
    "    return r2 "
   ]
  },
  {
   "cell_type": "code",
   "execution_count": null,
   "id": "595beafa-f4ab-4b69-983e-99658815125c",
   "metadata": {},
   "outputs": [],
   "source": []
  },
  {
   "cell_type": "code",
   "execution_count": null,
   "id": "fd840b86-2562-4c11-a264-24a26df9322d",
   "metadata": {},
   "outputs": [],
   "source": []
  },
  {
   "cell_type": "code",
   "execution_count": null,
   "id": "b5a449da-f482-4939-bd40-903a048583cb",
   "metadata": {},
   "outputs": [],
   "source": []
  },
  {
   "cell_type": "code",
   "execution_count": null,
   "id": "77e755ae-dbfe-48c9-bf38-e1ae91c05c58",
   "metadata": {},
   "outputs": [],
   "source": []
  },
  {
   "cell_type": "code",
   "execution_count": null,
   "id": "8e50a39a-2628-4539-8fe4-7681886ced44",
   "metadata": {},
   "outputs": [],
   "source": []
  },
  {
   "cell_type": "code",
   "execution_count": null,
   "id": "b928265d-4c9d-46c7-a234-4435f333f20b",
   "metadata": {},
   "outputs": [],
   "source": []
  },
  {
   "cell_type": "code",
   "execution_count": null,
   "id": "7ab705eb-89de-44f6-aafb-38f0ab7c1f16",
   "metadata": {},
   "outputs": [],
   "source": []
  },
  {
   "cell_type": "code",
   "execution_count": null,
   "id": "03fbd1c9-a345-47e8-b29a-2c167186da26",
   "metadata": {},
   "outputs": [],
   "source": []
  },
  {
   "cell_type": "code",
   "execution_count": null,
   "id": "6d5cbba9-2ddc-4954-a4ec-7425422b621c",
   "metadata": {},
   "outputs": [],
   "source": []
  },
  {
   "cell_type": "code",
   "execution_count": null,
   "id": "5ed0ba22-8d4f-452f-8238-e05bb1379580",
   "metadata": {},
   "outputs": [],
   "source": []
  },
  {
   "cell_type": "code",
   "execution_count": null,
   "id": "86af09fc-14ba-4ce0-bd84-e9ae525072f6",
   "metadata": {},
   "outputs": [],
   "source": []
  },
  {
   "cell_type": "code",
   "execution_count": null,
   "id": "c788f7b7-d7ee-4549-8bca-56d8ddb75873",
   "metadata": {},
   "outputs": [],
   "source": []
  },
  {
   "cell_type": "code",
   "execution_count": null,
   "id": "61a01faa-8d9e-4ff6-9e79-ab1e1808ec0d",
   "metadata": {},
   "outputs": [],
   "source": []
  },
  {
   "cell_type": "code",
   "execution_count": null,
   "id": "ba1132fe-e05d-4e16-ac0f-feb994cc74e2",
   "metadata": {},
   "outputs": [],
   "source": []
  },
  {
   "cell_type": "code",
   "execution_count": null,
   "id": "d59bab8c-520e-42a1-b876-1bfa8b0e2619",
   "metadata": {},
   "outputs": [],
   "source": []
  }
 ],
 "metadata": {
  "kernelspec": {
   "display_name": "Python 3 (ipykernel)",
   "language": "python",
   "name": "python3"
  },
  "language_info": {
   "codemirror_mode": {
    "name": "ipython",
    "version": 3
   },
   "file_extension": ".py",
   "mimetype": "text/x-python",
   "name": "python",
   "nbconvert_exporter": "python",
   "pygments_lexer": "ipython3",
   "version": "3.9.21"
  }
 },
 "nbformat": 4,
 "nbformat_minor": 5
}
