{
 "cells": [
  {
   "cell_type": "code",
   "execution_count": 1,
   "id": "51b176d5-7bf0-44e2-8625-358e06f2dd00",
   "metadata": {},
   "outputs": [],
   "source": [
    "import pandas as pd\n",
    "from sklearn import model_selection"
   ]
  },
  {
   "cell_type": "code",
   "execution_count": 24,
   "id": "ec1bce22-b38e-475e-8be7-6dfbdca64235",
   "metadata": {},
   "outputs": [],
   "source": [
    "df = pd.read_csv('./resources/cat_train.csv')\n",
    "\n",
    "df['kfold'] = -1\n",
    "\n",
    "df = df.sample(frac=1).reset_index(drop=True)\n",
    "\n",
    "y = df['target'].values\n",
    "\n",
    "kf = model_selection.StratifiedKFold(n_splits=5)\n",
    "\n",
    "for f, (t_, v_) in enumerate(kf.split(X=df, y=y)):\n",
    "    df.loc[v_, 'kfold'] = f\n",
    "\n",
    "    df.to_csv('./resources/cat_train_folds.csv', index=False)"
   ]
  },
  {
   "cell_type": "code",
   "execution_count": 25,
   "id": "fa341104-4645-490a-890a-274d5cbb79a9",
   "metadata": {},
   "outputs": [],
   "source": [
    "df = pd.read_csv('./resources/cat_train_folds.csv')"
   ]
  },
  {
   "cell_type": "code",
   "execution_count": 26,
   "id": "101663cc-e1ce-4241-ba95-ab65be40e6f0",
   "metadata": {},
   "outputs": [
    {
     "data": {
      "text/plain": [
       "kfold\n",
       "0    120000\n",
       "1    120000\n",
       "2    120000\n",
       "3    120000\n",
       "4    120000\n",
       "Name: count, dtype: int64"
      ]
     },
     "execution_count": 26,
     "metadata": {},
     "output_type": "execute_result"
    }
   ],
   "source": [
    "df.kfold.value_counts()"
   ]
  },
  {
   "cell_type": "code",
   "execution_count": 28,
   "id": "32040b71-731c-4b6c-bd6c-f5723057c6b1",
   "metadata": {},
   "outputs": [
    {
     "data": {
      "text/plain": [
       "target\n",
       "0    97536\n",
       "1    22464\n",
       "Name: count, dtype: int64"
      ]
     },
     "execution_count": 28,
     "metadata": {},
     "output_type": "execute_result"
    }
   ],
   "source": [
    "# check the target distribution per fold.\n",
    "df.loc[df['kfold'] == 0, 'target'].value_counts()"
   ]
  },
  {
   "cell_type": "code",
   "execution_count": 29,
   "id": "1076a1f5-060a-4dbb-ae6e-59855fda3691",
   "metadata": {},
   "outputs": [
    {
     "data": {
      "text/plain": [
       "target\n",
       "0    97536\n",
       "1    22464\n",
       "Name: count, dtype: int64"
      ]
     },
     "execution_count": 29,
     "metadata": {},
     "output_type": "execute_result"
    }
   ],
   "source": [
    "df.loc[df['kfold'] == 1, 'target'].value_counts()"
   ]
  },
  {
   "cell_type": "code",
   "execution_count": 30,
   "id": "9cb207fb-2a8a-4ba2-9857-72b911f1eb86",
   "metadata": {},
   "outputs": [
    {
     "data": {
      "text/plain": [
       "target\n",
       "0    97535\n",
       "1    22465\n",
       "Name: count, dtype: int64"
      ]
     },
     "execution_count": 30,
     "metadata": {},
     "output_type": "execute_result"
    }
   ],
   "source": [
    "df.loc[df['kfold'] == 3, 'target'].value_counts()"
   ]
  },
  {
   "cell_type": "code",
   "execution_count": 31,
   "id": "648fd550-0346-4a9a-9dc8-34396917f6ec",
   "metadata": {},
   "outputs": [
    {
     "data": {
      "text/plain": [
       "target\n",
       "0    97535\n",
       "1    22465\n",
       "Name: count, dtype: int64"
      ]
     },
     "execution_count": 31,
     "metadata": {},
     "output_type": "execute_result"
    }
   ],
   "source": [
    "df.loc[df['kfold'] == 4, 'target'].value_counts()"
   ]
  },
  {
   "cell_type": "markdown",
   "id": "e4cc0c88-69e2-45a2-a471-be01bfb90df6",
   "metadata": {},
   "source": [
    "One of the simplest models we can build is by one-hot encoding all the data and\n",
    "using logistic regression.\n",
    "\n",
    "For the remaining code, check \"ohe_logres.py\""
   ]
  },
  {
   "cell_type": "code",
   "execution_count": null,
   "id": "cc5d5546-f3af-4beb-916e-bc32025f4081",
   "metadata": {},
   "outputs": [],
   "source": []
  },
  {
   "cell_type": "code",
   "execution_count": null,
   "id": "b0c5d58c-27b3-4034-ad89-2b14d454f114",
   "metadata": {},
   "outputs": [],
   "source": []
  },
  {
   "cell_type": "code",
   "execution_count": null,
   "id": "ac90398f-298a-4c2c-8817-ad1a37dd5e8d",
   "metadata": {},
   "outputs": [],
   "source": []
  },
  {
   "cell_type": "code",
   "execution_count": null,
   "id": "dfe90185-52fc-405f-ad62-1fd6b0c2e126",
   "metadata": {},
   "outputs": [],
   "source": []
  },
  {
   "cell_type": "code",
   "execution_count": null,
   "id": "67ad6c06-a8cd-4300-871d-fafe782ebd66",
   "metadata": {},
   "outputs": [],
   "source": []
  },
  {
   "cell_type": "code",
   "execution_count": null,
   "id": "72c03287-9b92-4813-93ff-8b20ac30e851",
   "metadata": {},
   "outputs": [],
   "source": []
  },
  {
   "cell_type": "code",
   "execution_count": null,
   "id": "1305b3bf-73ac-447c-a2d5-1ed4af0eab2e",
   "metadata": {},
   "outputs": [],
   "source": []
  },
  {
   "cell_type": "code",
   "execution_count": null,
   "id": "7972a95d-4335-475b-9ddc-2ab6f6ab569b",
   "metadata": {},
   "outputs": [],
   "source": []
  },
  {
   "cell_type": "code",
   "execution_count": null,
   "id": "a2d36d33-a14f-4e32-902f-043031881b55",
   "metadata": {},
   "outputs": [],
   "source": []
  }
 ],
 "metadata": {
  "kernelspec": {
   "display_name": "Python 3 (ipykernel)",
   "language": "python",
   "name": "python3"
  },
  "language_info": {
   "codemirror_mode": {
    "name": "ipython",
    "version": 3
   },
   "file_extension": ".py",
   "mimetype": "text/x-python",
   "name": "python",
   "nbconvert_exporter": "python",
   "pygments_lexer": "ipython3",
   "version": "3.9.21"
  }
 },
 "nbformat": 4,
 "nbformat_minor": 5
}
